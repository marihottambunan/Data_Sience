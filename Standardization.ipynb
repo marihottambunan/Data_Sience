{
 "cells": [
  {
   "cell_type": "code",
   "execution_count": 1,
   "id": "6d9dfd01-e294-4300-aadd-953760bf0108",
   "metadata": {},
   "outputs": [],
   "source": [
    "# Import necessary libraries\n",
    "import pandas as pd\n",
    "from sklearn.preprocessing import StandardScaler, MinMaxScaler, RobustScaler"
   ]
  },
  {
   "cell_type": "code",
   "execution_count": 2,
   "id": "3b700d57-837a-45af-a13b-dc82530e925c",
   "metadata": {},
   "outputs": [],
   "source": [
    "#Create a dummy dataset\n",
    "data = {'Retirements': [100, 200, 150, 250, 300], \n",
    "        'Price': [10, 20, 15, 25, 30], \n",
    "        'Credits': [5, 10, 7, 12, 15]} \n",
    "\n",
    "df = pd.DataFrame(data)"
   ]
  },
  {
   "cell_type": "code",
   "execution_count": 3,
   "id": "f7cf2b9d-7768-4fca-8956-7af41971fd21",
   "metadata": {},
   "outputs": [
    {
     "name": "stdout",
     "output_type": "stream",
     "text": [
      "Original Dataset:\n",
      "   Retirements  Price  Credits\n",
      "0          100     10        5\n",
      "1          200     20       10\n",
      "2          150     15        7\n",
      "3          250     25       12\n",
      "4          300     30       15\n"
     ]
    }
   ],
   "source": [
    "#Display the original dataset\n",
    "print(\"Original Dataset:\") \n",
    "print(df.head())"
   ]
  },
  {
   "cell_type": "code",
   "execution_count": 4,
   "id": "b3acedff-1e72-4b39-97ec-e54ac81de37b",
   "metadata": {},
   "outputs": [
    {
     "name": "stdout",
     "output_type": "stream",
     "text": [
      "Standardized Dataset (Z-score Standardization)\n",
      "   Retirements     Price   Credits\n",
      "0    -1.414214 -1.414214 -1.354398\n",
      "1     0.000000  0.000000  0.056433\n",
      "2    -0.707107 -0.707107 -0.790066\n",
      "3     0.707107  0.707107  0.620766\n",
      "4     1.414214  1.414214  1.467265\n"
     ]
    }
   ],
   "source": [
    "#Perform Z-score Standardization\n",
    "scaler = StandardScaler() \n",
    "df_standardized = pd.DataFrame(scaler.fit_transform(df), columns=df.columns)\n",
    "\n",
    "#Display the standardized dataset\n",
    "print(\"Standardized Dataset (Z-score Standardization)\") \n",
    "print(df_standardized.head())"
   ]
  },
  {
   "cell_type": "code",
   "execution_count": 5,
   "id": "a12bc4d3-053e-44af-8089-a49895434c3e",
   "metadata": {},
   "outputs": [
    {
     "name": "stdout",
     "output_type": "stream",
     "text": [
      "Scaled Dataset (Min-Max Scaling)\n",
      "   Retirements  Price  Credits\n",
      "0         0.00   0.00      0.0\n",
      "1         0.50   0.50      0.5\n",
      "2         0.25   0.25      0.2\n",
      "3         0.75   0.75      0.7\n",
      "4         1.00   1.00      1.0\n"
     ]
    }
   ],
   "source": [
    "#Perform Min-Max Scaling\n",
    "scaler = MinMaxScaler() \n",
    "df_scaled = pd.DataFrame(scaler.fit_transform(df), columns=df.columns)\n",
    "\n",
    "#Display the scaled dataset\n",
    "print(\"Scaled Dataset (Min-Max Scaling)\") \n",
    "print(df_scaled.head())"
   ]
  },
  {
   "cell_type": "code",
   "execution_count": 6,
   "id": "10b9e9e6-92f3-4e9f-9d49-20797528d00a",
   "metadata": {},
   "outputs": [
    {
     "name": "stdout",
     "output_type": "stream",
     "text": [
      "Robustly Scaled Dataset (Robust Scaling)\n",
      "   Retirements  Price  Credits\n",
      "0         -1.0   -1.0     -1.0\n",
      "1          0.0    0.0      0.0\n",
      "2         -0.5   -0.5     -0.6\n",
      "3          0.5    0.5      0.4\n",
      "4          1.0    1.0      1.0\n"
     ]
    }
   ],
   "source": [
    "# Perform Robust Scaling\n",
    "scaler = RobustScaler() \n",
    "df_robust = pd.DataFrame(scaler.fit_transform(df), columns=df.columns)\n",
    "\n",
    "# Display the robustly scaled dataset\n",
    "print(\"Robustly Scaled Dataset (Robust Scaling)\") \n",
    "print(df_robust.head())"
   ]
  },
  {
   "cell_type": "code",
   "execution_count": null,
   "id": "3820d3db-c1d5-4b88-b2a4-de47cfd0fd62",
   "metadata": {},
   "outputs": [],
   "source": []
  }
 ],
 "metadata": {
  "kernelspec": {
   "display_name": "Python 3 (ipykernel)",
   "language": "python",
   "name": "python3"
  },
  "language_info": {
   "codemirror_mode": {
    "name": "ipython",
    "version": 3
   },
   "file_extension": ".py",
   "mimetype": "text/x-python",
   "name": "python",
   "nbconvert_exporter": "python",
   "pygments_lexer": "ipython3",
   "version": "3.12.4"
  }
 },
 "nbformat": 4,
 "nbformat_minor": 5
}
